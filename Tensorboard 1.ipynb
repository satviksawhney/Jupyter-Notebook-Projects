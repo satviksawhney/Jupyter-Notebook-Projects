{
  "nbformat": 4,
  "nbformat_minor": 0,
  "metadata": {
    "colab": {
      "name": "Copy of Welcome To Colaboratory",
      "provenance": [],
      "collapsed_sections": [],
      "include_colab_link": true
    },
    "kernelspec": {
      "display_name": "Python 3",
      "name": "python3"
    }
  },
  "cells": [
    {
      "cell_type": "markdown",
      "metadata": {
        "id": "view-in-github",
        "colab_type": "text"
      },
      "source": [
        "<a href=\"https://colab.research.google.com/github/satviksawhney/Jupyter-Notebook-Projects/blob/master/Tensorboard%201.ipynb\" target=\"_parent\"><img src=\"https://colab.research.google.com/assets/colab-badge.svg\" alt=\"Open In Colab\"/></a>"
      ]
    },
    {
      "cell_type": "code",
      "metadata": {
        "colab": {
          "base_uri": "https://localhost:8080/"
        },
        "id": "aQE1KSkFD9NZ",
        "outputId": "3f73c4d7-5e86-4c84-bc55-3bc89494165b"
      },
      "source": [
        "import tensorflow.compat.v1 as tf\n",
        "tf.disable_v2_behavior()"
      ],
      "execution_count": 1,
      "outputs": [
        {
          "output_type": "stream",
          "name": "stdout",
          "text": [
            "WARNING:tensorflow:From /usr/local/lib/python3.7/dist-packages/tensorflow/python/compat/v2_compat.py:101: disable_resource_variables (from tensorflow.python.ops.variable_scope) is deprecated and will be removed in a future version.\n",
            "Instructions for updating:\n",
            "non-resource variables are not supported in the long term\n"
          ]
        }
      ]
    },
    {
      "cell_type": "code",
      "metadata": {
        "id": "4e4OrCOXA3_8",
        "colab": {
          "base_uri": "https://localhost:8080/"
        },
        "outputId": "18c896ca-3c60-4a80-e13f-5378f2ca3d33"
      },
      "source": [
        "    a = tf.add (2,5)\n",
        "    b = tf.multiply (a,3)\n",
        "    c = tf.add (4,5)\n",
        "    d = tf.multiply (c,6)\n",
        "    e = tf.multiply (4,5)\n",
        "    f = tf.div (e,6)\n",
        "    g = tf.add (b,d)\n",
        "    h = tf.multiply(g,f)"
      ],
      "execution_count": 2,
      "outputs": [
        {
          "output_type": "stream",
          "name": "stdout",
          "text": [
            "WARNING:tensorflow:From <ipython-input-2-bb3415782038>:6: div (from tensorflow.python.ops.math_ops) is deprecated and will be removed in a future version.\n",
            "Instructions for updating:\n",
            "Deprecated in favor of operator or tf.math.divide.\n"
          ]
        }
      ]
    },
    {
      "cell_type": "code",
      "metadata": {
        "id": "MpCUg3VjBAN9",
        "colab": {
          "base_uri": "https://localhost:8080/"
        },
        "outputId": "ddae37c8-006f-4b8c-e6be-cb2a3e6f2e29"
      },
      "source": [
        "with tf.Session() as sess:\n",
        "  writer=tf.summary.FileWriter(\"./logs\",sess.graph)\n",
        "\n",
        "  print(sess.run(h))\n",
        "  writer.close()"
      ],
      "execution_count": 3,
      "outputs": [
        {
          "output_type": "stream",
          "name": "stdout",
          "text": [
            "225\n"
          ]
        }
      ]
    }
  ]
}